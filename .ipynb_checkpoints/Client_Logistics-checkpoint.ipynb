{
 "cells": [
  {
   "cell_type": "code",
   "execution_count": 3,
   "id": "b036113c",
   "metadata": {
    "scrolled": true
   },
   "outputs": [
    {
     "name": "stdout",
     "output_type": "stream",
     "text": [
      "time slider military time 6 - 23\n"
     ]
    },
    {
     "data": {
      "application/vnd.jupyter.widget-view+json": {
       "model_id": "69032276d12647baa7adeaaba6ed5e93",
       "version_major": 2,
       "version_minor": 0
      },
      "text/plain": [
       "IntSlider(value=6, max=23, min=6)"
      ]
     },
     "metadata": {},
     "output_type": "display_data"
    },
    {
     "data": {
      "application/vnd.jupyter.widget-view+json": {
       "model_id": "4b5bfacbeac34270866059fc7f4e8a28",
       "version_major": 2,
       "version_minor": 0
      },
      "text/plain": [
       "Output()"
      ]
     },
     "metadata": {},
     "output_type": "display_data"
    },
    {
     "name": "stdout",
     "output_type": "stream",
     "text": [
      "day slider\n"
     ]
    },
    {
     "data": {
      "application/vnd.jupyter.widget-view+json": {
       "model_id": "069e7ed8f9f84bc39248ad716f9449c8",
       "version_major": 2,
       "version_minor": 0
      },
      "text/plain": [
       "IntSlider(value=0, max=6)"
      ]
     },
     "metadata": {},
     "output_type": "display_data"
    },
    {
     "data": {
      "application/vnd.jupyter.widget-view+json": {
       "model_id": "76c1f4d8ebfc4e24bd96f686293538b5",
       "version_major": 2,
       "version_minor": 0
      },
      "text/plain": [
       "Output()"
      ]
     },
     "metadata": {},
     "output_type": "display_data"
    },
    {
     "name": "stdout",
     "output_type": "stream",
     "text": [
      "Enter add, delete, search, print, map, day, time or e to exit: time\n"
     ]
    }
   ],
   "source": [
    "%run classes.ipynb\n",
    "%run functions.ipynb\n",
    "\n",
    "import os.path\n",
    "from opencage.geocoder import OpenCageGeocode\n",
    "import folium\n",
    "from folium import Tooltip\n",
    "import pickle \n",
    "from typing import List\n",
    "import ipywidgets as widgets\n",
    "from ipywidgets import interact, interactive, fixed, interact_manual, IntSlider, Output\n",
    "from IPython.display import clear_output, display\n",
    "from datetime import datetime\n",
    "import pytz\n",
    "from typing import List\n",
    "from copy import deepcopy\n",
    "\n",
    "#old_clients = load_old_clients('data.pickle')\n",
    "#full_client_list = update_clients(old_clients)\n",
    "\n",
    "full_client_list = load_clients_pickle('client_data.pickle')\n",
    "\n",
    "days_of_week = {0: 'Sunday', 1: 'Monday', 2: 'Tuesday', 3: 'Wednesday', 4: 'Thursday', 5: 'Friday', 6: 'Saturday'}\n",
    "\n",
    "out = Output()\n",
    "out2 = Output()\n",
    "\n",
    "time_slider = widgets.IntSlider(min=6, max=23, step=1)\n",
    "print(\"time slider military time 6 - 23\")\n",
    "display(time_slider, out2)\n",
    "time_slider.observe(hourly, names='value')\n",
    "\n",
    "slider = widgets.IntSlider(min=0, max=6, step=1)\n",
    "print(\"day slider\")\n",
    "display(slider, out)\n",
    "slider.observe(weekly, names = 'value')\n",
    "\n",
    "sunday_map = filter_and_save(full_client_list, \"Sunday\")\n",
    "monday_map = filter_and_save(full_client_list, \"Monday\")\n",
    "tuesday_map = filter_and_save(full_client_list, \"Tuesday\")\n",
    "wednesday_map = filter_and_save(full_client_list, \"Wednesday\")\n",
    "thursday_map = filter_and_save(full_client_list, \"Thursday\")\n",
    "friday_map = filter_and_save(full_client_list, \"Friday\")\n",
    "saturday_map = filter_and_save(full_client_list, \"Saturday\")\n",
    "        \n",
    "time_client_list = modify_time(full_client_list)\n",
    "\n",
    "#for client in time_client_list:\n",
    "    #print(client)\n",
    "    \n",
    "#test change\n",
    "\n",
    "while True: \n",
    "    inp = input(\"Enter add, delete, search, print, map, day, time or e to exit: \")\n",
    "    if inp.lower() == 'add':\n",
    "        add_client()\n",
    "        remove_append()\n",
    "    elif inp.lower() == 'delete':\n",
    "        remove()\n",
    "    elif inp.lower() == 'search':\n",
    "        search()\n",
    "    elif inp.lower() == 'print':\n",
    "        for client in full_client_list:\n",
    "            print(client)\n",
    "    elif inp.lower() == 'map':\n",
    "        map_nyc = create_map(full_client_list)\n",
    "        display(map_nyc)\n",
    "    elif inp.lower() == 'day':\n",
    "        pass\n",
    "        break\n",
    "    elif inp.lower() == 'time':\n",
    "        pass\n",
    "        break\n",
    "    elif inp.lower() == 'e':\n",
    "        break\n",
    "    else:\n",
    "        print(\"Invalid input\")\n",
    "        \n",
    "\n"
   ]
  },
  {
   "cell_type": "code",
   "execution_count": null,
   "id": "6bcef2a7",
   "metadata": {},
   "outputs": [],
   "source": []
  },
  {
   "cell_type": "code",
   "execution_count": null,
   "id": "bfb01463",
   "metadata": {},
   "outputs": [],
   "source": []
  }
 ],
 "metadata": {
  "kernelspec": {
   "display_name": "Python 3 (ipykernel)",
   "language": "python",
   "name": "python3"
  },
  "language_info": {
   "codemirror_mode": {
    "name": "ipython",
    "version": 3
   },
   "file_extension": ".py",
   "mimetype": "text/x-python",
   "name": "python",
   "nbconvert_exporter": "python",
   "pygments_lexer": "ipython3",
   "version": "3.11.3"
  }
 },
 "nbformat": 4,
 "nbformat_minor": 5
}
