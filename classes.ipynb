{
 "cells": [
  {
   "cell_type": "code",
   "execution_count": null,
   "id": "b69b2cce",
   "metadata": {},
   "outputs": [],
   "source": [
    "# classes.py\n",
    "\n",
    "from typing import List\n",
    "from copy import deepcopy\n",
    "\n",
    "class FullClient:\n",
    "    def __init__(self, name, time, known, address, length, lat, long):\n",
    "        self.name = name\n",
    "        self.time = time\n",
    "        self.known = known\n",
    "        self.address = address\n",
    "        self.length = length\n",
    "        self.lat = lat\n",
    "        self.long = long\n",
    "\n",
    "    def __repr__(self):\n",
    "        return f\"FullClient(name='{self.name}', time='{self.time}', address='{self.address}', length='{self.length}' lat='{self.lat}', long='{self.long}', known='{self.known}')\"\n",
    "    \n",
    "class TimeClient(FullClient):\n",
    "    def __init__(self, name, time, known, address, length, lat, long, weekday, date, hour):\n",
    "        super().__init__(name, time, known, address, length, lat, long)\n",
    "        self.weekday = weekday\n",
    "        self.date = date\n",
    "        self.hour = hour\n",
    "\n",
    "    def __repr__(self):\n",
    "        return (f\"TimeClient(name='{self.name}', time='{self.time}', address='{self.address}', length='{self.length}' \"\n",
    "                f\"lat='{self.lat}', long='{self.long}', known='{self.known}', weekday='{self.weekday}', \"\n",
    "                f\"date='{self.date}', hour='{self.hour}')\")\n",
    "\n"
   ]
  }
 ],
 "metadata": {
  "kernelspec": {
   "display_name": "Python 3 (ipykernel)",
   "language": "python",
   "name": "python3"
  },
  "language_info": {
   "codemirror_mode": {
    "name": "ipython",
    "version": 3
   },
   "file_extension": ".py",
   "mimetype": "text/x-python",
   "name": "python",
   "nbconvert_exporter": "python",
   "pygments_lexer": "ipython3",
   "version": "3.11.3"
  }
 },
 "nbformat": 4,
 "nbformat_minor": 5
}
